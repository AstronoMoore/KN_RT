{
 "cells": [
  {
   "cell_type": "code",
   "execution_count": 1,
   "metadata": {},
   "outputs": [],
   "source": [
    "import pandas as pd \n",
    "import numpy as np \n",
    "from matplotlib import pyplot as plt\n",
    "import glob\n",
    "import sys\n",
    "import os\n",
    "from tqdm import tqdm\n"
   ]
  },
  {
   "cell_type": "code",
   "execution_count": 2,
   "metadata": {},
   "outputs": [],
   "source": [
    "from itertools import product\n",
    "from matplotlib.pyplot import cm\n",
    "\n",
    "\n",
    "def is_decreasing(combination):\n",
    "    for i in range(1, len(combination)):\n",
    "        if combination[i] > combination[i - 1]:\n",
    "            return False\n",
    "    return True\n",
    "\n",
    "array1 = np.arange(6300, 6300 + 4 * 250, 250)\n",
    "array2 = np.arange(4700, 4700 + 4 * 250, 250)\n",
    "array3 = np.arange(4200, 4200 + 4 * 250, 250)\n",
    "array4 = np.arange(3500, 3500 + 4 * 250, 250)\n",
    "\n",
    "all_combinations = product(*[array1, array2, array3, array4])\n",
    "\n",
    "decreasing_combinations = [comb for comb in all_combinations if is_decreasing(comb)]\n",
    "decreasing_combinations = []\n",
    "for comb in product(*[array1, array2, array3, array4]):\n",
    "    if is_decreasing(comb):\n",
    "        decreasing_combinations.append(comb)\n",
    "\n"
   ]
  },
  {
   "cell_type": "code",
   "execution_count": 3,
   "metadata": {},
   "outputs": [],
   "source": [
    "\n",
    "output_dir = '/Users/thomasmoore/Desktop/' + 'Kilonova_model/'"
   ]
  },
  {
   "cell_type": "code",
   "execution_count": 4,
   "metadata": {},
   "outputs": [
    {
     "name": "stderr",
     "output_type": "stream",
     "text": [
      " outer:   0%|          | 0/224 [00:00<?, ?it/s]"
     ]
    }
   ],
   "source": [
    "times = np.arange(0.5,8,1)\n",
    "\n",
    "for comb in tqdm(decreasing_combinations, desc=\" outer\", position=0):\n",
    "    target_dir = output_dir +'/temp_'+str(comb[0])+'_'+str(comb[1])+'_'+str(comb[2])+'_'+str(comb[3])\n",
    "\n",
    "    if os.path.isdir(target_dir) == False:\n",
    "        print(\"No output directory - making one!\")\n",
    "        os.makedirs(target_dir)\n",
    "\n",
    "    if os.path.isdir(output_dir) == True:\n",
    "        for filename in os.listdir(target_dir):\n",
    "            if filename.endswith(\".csv\"):\n",
    "                file_path = os.path.join(target_dir, filename)\n",
    "                os.remove(file_path)\n",
    "            if filename.endswith(\".png\"):\n",
    "                file_path = os.path.join(target_dir, filename)\n",
    "                os.remove(file_path)\n",
    "                \n",
    "    if os.path.isdir(output_dir) == False:\n",
    "        print(\"No output directory - making one!\")\n",
    "        os.makedirs(target_dir)\n",
    "    for time in tqdm(times, desc=\" inner loop\", position=1, leave=False):\n",
    "        !python Simulation.py 10000 {comb[0]} {comb[1]} {comb[2]} {comb[3]} {time} {target_dir}\n",
    "    \n",
    "\n",
    "    !python JitterAndHistograms.py {target_dir}\n",
    "    !python output_assemble.py {target_dir}\n"
   ]
  }
 ],
 "metadata": {
  "kernelspec": {
   "display_name": "Python 3",
   "language": "python",
   "name": "python3"
  },
  "language_info": {
   "codemirror_mode": {
    "name": "ipython",
    "version": 3
   },
   "file_extension": ".py",
   "mimetype": "text/x-python",
   "name": "python",
   "nbconvert_exporter": "python",
   "pygments_lexer": "ipython3",
   "version": "3.9.16"
  },
  "orig_nbformat": 4
 },
 "nbformat": 4,
 "nbformat_minor": 2
}
